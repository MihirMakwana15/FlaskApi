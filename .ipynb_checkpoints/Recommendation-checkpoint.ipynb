{
 "cells": [
  {
   "cell_type": "code",
   "execution_count": 1,
   "id": "47a2d218",
   "metadata": {},
   "outputs": [
    {
     "name": "stderr",
     "output_type": "stream",
     "text": [
      "C:\\Users\\Mihir15\\anaconda3\\lib\\site-packages\\fuzzywuzzy\\fuzz.py:11: UserWarning: Using slow pure-python SequenceMatcher. Install python-Levenshtein to remove this warning\n",
      "  warnings.warn('Using slow pure-python SequenceMatcher. Install python-Levenshtein to remove this warning')\n"
     ]
    },
    {
     "name": "stdout",
     "output_type": "stream",
     "text": [
      "40    Noise Pulse 2 Max 1.85\" Display, Bluetooth Cal...\n",
      "43    Noise Pulse 2 Max 1.85\" Display, Bluetooth Cal...\n",
      "53    Noise Pulse Go Buzz Smart Watch with Advanced ...\n",
      "Name: title, dtype: object\n"
     ]
    }
   ],
   "source": [
    "import pandas as pd\n",
    "from sklearn.feature_extraction.text import CountVectorizer\n",
    "from sklearn.metrics.pairwise import cosine_similarity\n",
    "from fuzzywuzzy import fuzz\n",
    "\n",
    "data=pd.read_csv(\"output.csv\")\n",
    "\n",
    "cv=CountVectorizer()\n",
    "vectors = cv.fit_transform(data['title'])\n",
    "cosine_sim = cosine_similarity(vectors,vectors)\n",
    "\n",
    "def get_recommendations(input_title, cosine_sim=cosine_sim):\n",
    "    best_match = max(data['title'], key=lambda x: fuzz.partial_ratio(x.lower(), input_title.lower()))    \n",
    "    idx = data[data['title'] == best_match].index[0]\n",
    "   \n",
    "\n",
    "    # Get the pairwise similarity scores of all products with that product\n",
    "    sim_scores = list(enumerate(cosine_sim[idx]))\n",
    "\n",
    "    # Sort the products based on the similarity scores\n",
    "    sim_scores = sorted(sim_scores, key=lambda x: x[1], reverse=True)\n",
    "\n",
    "    # Get the top 5 most similar products\n",
    "    top_similar_products = sim_scores[1:4]\n",
    "\n",
    "    # Return the titles of the top 5 most similar products\n",
    "    return data['title'].iloc[[x[0] for x in top_similar_products]]\n",
    "\n",
    "# Example usage:\n",
    "input_title = \"Noise\"  # User input\n",
    "recommendations = get_recommendations(input_title)\n",
    "print(recommendations)\n"
   ]
  },
  {
   "cell_type": "code",
   "execution_count": 2,
   "id": "f14387c6",
   "metadata": {},
   "outputs": [],
   "source": [
    "import pickle"
   ]
  },
  {
   "cell_type": "code",
   "execution_count": 3,
   "id": "55177864",
   "metadata": {},
   "outputs": [],
   "source": [
    "pickle.dump(data,open('products.pkl','wb'))"
   ]
  },
  {
   "cell_type": "code",
   "execution_count": 4,
   "id": "7e287675",
   "metadata": {},
   "outputs": [],
   "source": [
    "pickle.dump(cosine_sim,open('similarity.pkl','wb'))"
   ]
  },
  {
   "cell_type": "code",
   "execution_count": 5,
   "id": "93d1dcf9",
   "metadata": {},
   "outputs": [],
   "source": [
    "pickle.dump(data.to_dict,open('products_dict.pkl','wb'))"
   ]
  },
  {
   "cell_type": "code",
   "execution_count": null,
   "id": "5b38587d",
   "metadata": {},
   "outputs": [],
   "source": []
  }
 ],
 "metadata": {
  "kernelspec": {
   "display_name": "Python 3 (ipykernel)",
   "language": "python",
   "name": "python3"
  },
  "language_info": {
   "codemirror_mode": {
    "name": "ipython",
    "version": 3
   },
   "file_extension": ".py",
   "mimetype": "text/x-python",
   "name": "python",
   "nbconvert_exporter": "python",
   "pygments_lexer": "ipython3",
   "version": "3.10.9"
  }
 },
 "nbformat": 4,
 "nbformat_minor": 5
}
